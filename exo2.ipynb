{
 "cells": [
  {
   "cell_type": "markdown",
   "metadata": {},
   "source": [
    "# TD2"
   ]
  },
  {
   "cell_type": "markdown",
   "metadata": {},
   "source": [
    "## Exercice 1"
   ]
  },
  {
   "cell_type": "code",
   "execution_count": 67,
   "metadata": {},
   "outputs": [],
   "source": [
    "import pandas as pd\n",
    "import numpy as np\n",
    "from scipy import stats\n",
    "from scipy.stats import pearsonr, linregress\n",
    "import matplotlib.pyplot as plt"
   ]
  },
  {
   "cell_type": "code",
   "execution_count": 68,
   "metadata": {},
   "outputs": [
    {
     "data": {
      "text/html": [
       "<div>\n",
       "<style scoped>\n",
       "    .dataframe tbody tr th:only-of-type {\n",
       "        vertical-align: middle;\n",
       "    }\n",
       "\n",
       "    .dataframe tbody tr th {\n",
       "        vertical-align: top;\n",
       "    }\n",
       "\n",
       "    .dataframe thead th {\n",
       "        text-align: right;\n",
       "    }\n",
       "</style>\n",
       "<table border=\"1\" class=\"dataframe\">\n",
       "  <thead>\n",
       "    <tr style=\"text-align: right;\">\n",
       "      <th></th>\n",
       "      <th>Pays</th>\n",
       "      <th>Taux d'urbanisation</th>\n",
       "      <th>Taux de natalite</th>\n",
       "    </tr>\n",
       "    <tr>\n",
       "      <th>Observations</th>\n",
       "      <th></th>\n",
       "      <th></th>\n",
       "      <th></th>\n",
       "    </tr>\n",
       "  </thead>\n",
       "  <tbody>\n",
       "    <tr>\n",
       "      <th>1</th>\n",
       "      <td>Canada</td>\n",
       "      <td>55.00</td>\n",
       "      <td>16.2</td>\n",
       "    </tr>\n",
       "    <tr>\n",
       "      <th>2</th>\n",
       "      <td>Costa-Rica</td>\n",
       "      <td>27.30</td>\n",
       "      <td>30.5</td>\n",
       "    </tr>\n",
       "    <tr>\n",
       "      <th>3</th>\n",
       "      <td>Cuba</td>\n",
       "      <td>33.33</td>\n",
       "      <td>16.9</td>\n",
       "    </tr>\n",
       "    <tr>\n",
       "      <th>4</th>\n",
       "      <td>USA</td>\n",
       "      <td>56.50</td>\n",
       "      <td>16.0</td>\n",
       "    </tr>\n",
       "    <tr>\n",
       "      <th>5</th>\n",
       "      <td>El Salvador</td>\n",
       "      <td>11.50</td>\n",
       "      <td>40.2</td>\n",
       "    </tr>\n",
       "  </tbody>\n",
       "</table>\n",
       "</div>"
      ],
      "text/plain": [
       "                     Pays  Taux d'urbanisation  Taux de natalite\n",
       "Observations                                                    \n",
       "1                  Canada                55.00              16.2\n",
       "2              Costa-Rica                27.30              30.5\n",
       "3                    Cuba                33.33              16.9\n",
       "4                     USA                56.50              16.0\n",
       "5             El Salvador                11.50              40.2"
      ]
     },
     "execution_count": 68,
     "metadata": {},
     "output_type": "execute_result"
    }
   ],
   "source": [
    "df = pd.read_csv('TD1.csv', index_col= [0])\n",
    "df.head()\n"
   ]
  },
  {
   "cell_type": "code",
   "execution_count": 69,
   "metadata": {},
   "outputs": [
    {
     "name": "stdout",
     "output_type": "stream",
     "text": [
      "              Taux d'urbanisation  Taux de natalite\n",
      "Observations                                       \n",
      "1                           55.00              16.2\n",
      "2                           27.30              30.5\n",
      "3                           33.33              16.9\n",
      "4                           56.50              16.0\n",
      "5                           11.50              40.2\n",
      "6                           14.20              38.4\n",
      "7                           13.90              41.3\n",
      "8                           19.00              43.9\n",
      "9                           31.10              28.3\n",
      "10                          43.20              33.9\n",
      "11                          28.50              44.2\n",
      "12                           6.80              24.6\n",
      "13                          37.70              28.0\n",
      "14                          37.10              33.1\n"
     ]
    }
   ],
   "source": [
    "num_data = df.select_dtypes(include=['int64', 'float64'])\n",
    "print(num_data)"
   ]
  },
  {
   "cell_type": "markdown",
   "metadata": {},
   "source": [
    "a/ Moyenne de chaque variable quantitative\n",
    "b/ Valeur max de chaque variable"
   ]
  },
  {
   "cell_type": "code",
   "execution_count": 70,
   "metadata": {},
   "outputs": [
    {
     "data": {
      "text/html": [
       "<div>\n",
       "<style scoped>\n",
       "    .dataframe tbody tr th:only-of-type {\n",
       "        vertical-align: middle;\n",
       "    }\n",
       "\n",
       "    .dataframe tbody tr th {\n",
       "        vertical-align: top;\n",
       "    }\n",
       "\n",
       "    .dataframe thead th {\n",
       "        text-align: right;\n",
       "    }\n",
       "</style>\n",
       "<table border=\"1\" class=\"dataframe\">\n",
       "  <thead>\n",
       "    <tr style=\"text-align: right;\">\n",
       "      <th></th>\n",
       "      <th>Taux d'urbanisation</th>\n",
       "      <th>Taux de natalite</th>\n",
       "    </tr>\n",
       "  </thead>\n",
       "  <tbody>\n",
       "    <tr>\n",
       "      <th>count</th>\n",
       "      <td>14.000000</td>\n",
       "      <td>14.000000</td>\n",
       "    </tr>\n",
       "    <tr>\n",
       "      <th>mean</th>\n",
       "      <td>29.652143</td>\n",
       "      <td>31.107143</td>\n",
       "    </tr>\n",
       "    <tr>\n",
       "      <th>std</th>\n",
       "      <td>15.545652</td>\n",
       "      <td>9.996727</td>\n",
       "    </tr>\n",
       "    <tr>\n",
       "      <th>min</th>\n",
       "      <td>6.800000</td>\n",
       "      <td>16.000000</td>\n",
       "    </tr>\n",
       "    <tr>\n",
       "      <th>25%</th>\n",
       "      <td>15.400000</td>\n",
       "      <td>25.450000</td>\n",
       "    </tr>\n",
       "    <tr>\n",
       "      <th>50%</th>\n",
       "      <td>29.800000</td>\n",
       "      <td>31.800000</td>\n",
       "    </tr>\n",
       "    <tr>\n",
       "      <th>75%</th>\n",
       "      <td>37.550000</td>\n",
       "      <td>39.750000</td>\n",
       "    </tr>\n",
       "    <tr>\n",
       "      <th>max</th>\n",
       "      <td>56.500000</td>\n",
       "      <td>44.200000</td>\n",
       "    </tr>\n",
       "  </tbody>\n",
       "</table>\n",
       "</div>"
      ],
      "text/plain": [
       "       Taux d'urbanisation  Taux de natalite\n",
       "count            14.000000         14.000000\n",
       "mean             29.652143         31.107143\n",
       "std              15.545652          9.996727\n",
       "min               6.800000         16.000000\n",
       "25%              15.400000         25.450000\n",
       "50%              29.800000         31.800000\n",
       "75%              37.550000         39.750000\n",
       "max              56.500000         44.200000"
      ]
     },
     "execution_count": 70,
     "metadata": {},
     "output_type": "execute_result"
    }
   ],
   "source": [
    "num_data.describe()"
   ]
  },
  {
   "cell_type": "markdown",
   "metadata": {},
   "source": [
    "c/ Est-ce que ces deux variables sont indépendant ?"
   ]
  },
  {
   "cell_type": "code",
   "execution_count": null,
   "metadata": {},
   "outputs": [],
   "source": [
    "corr, p_value = pearsonr(df['Taux d\\'urbanisation'], df['Taux de natalite'])\n",
    "print(f\"Coefficient de corrélation: {corr}\")\n",
    "print(f\"Valeur p: {p_value}\")\n",
    "\n",
    "alpha = 0.01\n",
    "if p_value < alpha:\n",
    "    print(\"Il existe une dépendance significative entre le Taux d\\'urbanisation et le Taux de natalite.\")\n",
    "else:\n",
    "    print(\"Il n'existe pas de dépendance significative entre le Taux d\\'urbanisation et le Taux de natalite.\")"
   ]
  },
  {
   "cell_type": "markdown",
   "metadata": {},
   "source": [
    "Ainsi, il existe une dépendance significative entre le Taux d\\'urbanisation et le Taux de natalite."
   ]
  },
  {
   "cell_type": "code",
   "execution_count": 71,
   "metadata": {},
   "outputs": [
    {
     "name": "stdout",
     "output_type": "stream",
     "text": [
      "              resultat_test\n",
      "person_coeff      -0.619536\n",
      "p_value            0.018130\n"
     ]
    }
   ],
   "source": [
    "print(pd.DataFrame(pearsonr(df['Taux d\\'urbanisation'], df['Taux de natalite']), index = ['person_coeff','p_value'], columns= ['resultat_test']))"
   ]
  },
  {
   "cell_type": "code",
   "execution_count": 72,
   "metadata": {},
   "outputs": [],
   "source": [
    "slope, intercept, r_value, p_value, std_err = linregress(df['Taux d\\'urbanisation'], df['Taux de natalite'])\n",
    "\n",
    "def Prediction (X):\n",
    "    return slope * X + intercept"
   ]
  },
  {
   "cell_type": "markdown",
   "metadata": {},
   "source": [
    "d/ Analyser vos résultats et tirer une conclusion "
   ]
  },
  {
   "cell_type": "markdown",
   "metadata": {},
   "source": [
    "On peut analyser que le coefficient de corrélation entre les deux variables est de 0.018 qui est plus petit que 5% et le person_coeff est de -0.62. Ainsi donc on rejette l'hypothèse H0 et les deux variables sont dépendantes"
   ]
  },
  {
   "cell_type": "markdown",
   "metadata": {},
   "source": [
    "e/ Tracer le graphique X en fonction de Y (nuage des points)"
   ]
  },
  {
   "cell_type": "code",
   "execution_count": 73,
   "metadata": {},
   "outputs": [
    {
     "data": {
      "text/plain": [
       "Text(0, 0.5, 'Taux de natalite')"
      ]
     },
     "execution_count": 73,
     "metadata": {},
     "output_type": "execute_result"
    },
    {
     "data": {
      "image/png": "[encoded data removed]",
      "text/plain": [
       "<Figure size 640x480 with 1 Axes>"
      ]
     },
     "metadata": {},
     "output_type": "display_data"
    }
   ],
   "source": [
    "plt.scatter(df['Taux d\\'urbanisation'], df['Taux de natalite'], color=\"blue\", label=\"Données réelles\")\n",
    "plt.title(\"Relation entre le taux d\\'urbanisation et le taux de natalité\")\n",
    "plt.xlabel(\"Taux d\\'urbanisation\")\n",
    "plt.ylabel(\"Taux de natalite\")"
   ]
  },
  {
   "cell_type": "markdown",
   "metadata": {},
   "source": [
    "f/ Trouver l’équation de la droite de régression linéaire\n"
   ]
  },
  {
   "cell_type": "code",
   "execution_count": 74,
   "metadata": {},
   "outputs": [
    {
     "name": "stdout",
     "output_type": "stream",
     "text": [
      "equation de la droite de régression linéaire :  -0.39839616756555446 * X +  42.9204429315349\n"
     ]
    }
   ],
   "source": [
    "fitline = Prediction(df['Taux d\\'urbanisation'])\n",
    "print(\"equation de la droite de régression linéaire : \",slope, \"* X + \", intercept)"
   ]
  },
  {
   "cell_type": "markdown",
   "metadata": {},
   "source": [
    "g/ Tracer cette droite sur le même graphique que le nuage des points"
   ]
  },
  {
   "cell_type": "code",
   "execution_count": 75,
   "metadata": {},
   "outputs": [
    {
     "data": {
      "text/plain": [
       "Text(0, 0.5, 'Taux de natalite')"
      ]
     },
     "execution_count": 75,
     "metadata": {},
     "output_type": "execute_result"
    },
    {
     "data": {
      "image/png": "[encoded data removed]",
      "text/plain": [
       "<Figure size 640x480 with 1 Axes>"
      ]
     },
     "metadata": {},
     "output_type": "display_data"
    }
   ],
   "source": [
    "plt.scatter(df['Taux d\\'urbanisation'], df['Taux de natalite'], color=\"blue\", label=\"Données réelles\")\n",
    "plt.plot(df['Taux d\\'urbanisation'], fitline, color=\"red\", label=\"Modèle de régression\")\n",
    "plt.title(\"Relation entre le taux d\\'urbanisation et le taux de natalité\")\n",
    "plt.xlabel(\"Taux d\\'urbanisation\")\n",
    "plt.ylabel(\"Taux de natalite\")"
   ]
  },
  {
   "cell_type": "markdown",
   "metadata": {},
   "source": [
    "h/ Interpréter vos résultats : \n",
    "\n",
    "Nous pouvons observer que la droite suit bien l'aligne"
   ]
  },
  {
   "cell_type": "markdown",
   "metadata": {},
   "source": [
    "## Exercice 2"
   ]
  },
  {
   "cell_type": "markdown",
   "metadata": {},
   "source": []
  },
  {
   "cell_type": "code",
   "execution_count": 77,
   "metadata": {},
   "outputs": [
    {
     "data": {
      "text/html": [
       "<div>\n",
       "<style scoped>\n",
       "    .dataframe tbody tr th:only-of-type {\n",
       "        vertical-align: middle;\n",
       "    }\n",
       "\n",
       "    .dataframe tbody tr th {\n",
       "        vertical-align: top;\n",
       "    }\n",
       "\n",
       "    .dataframe thead th {\n",
       "        text-align: right;\n",
       "    }\n",
       "</style>\n",
       "<table border=\"1\" class=\"dataframe\">\n",
       "  <thead>\n",
       "    <tr style=\"text-align: right;\">\n",
       "      <th></th>\n",
       "      <th>Epreuve A</th>\n",
       "      <th>Epreuve B</th>\n",
       "    </tr>\n",
       "    <tr>\n",
       "      <th>Observation</th>\n",
       "      <th></th>\n",
       "      <th></th>\n",
       "    </tr>\n",
       "  </thead>\n",
       "  <tbody>\n",
       "    <tr>\n",
       "      <th>1</th>\n",
       "      <td>3</td>\n",
       "      <td>8</td>\n",
       "    </tr>\n",
       "    <tr>\n",
       "      <th>2</th>\n",
       "      <td>4</td>\n",
       "      <td>9</td>\n",
       "    </tr>\n",
       "    <tr>\n",
       "      <th>3</th>\n",
       "      <td>6</td>\n",
       "      <td>10</td>\n",
       "    </tr>\n",
       "    <tr>\n",
       "      <th>4</th>\n",
       "      <td>7</td>\n",
       "      <td>13</td>\n",
       "    </tr>\n",
       "    <tr>\n",
       "      <th>5</th>\n",
       "      <td>9</td>\n",
       "      <td>15</td>\n",
       "    </tr>\n",
       "  </tbody>\n",
       "</table>\n",
       "</div>"
      ],
      "text/plain": [
       "             Epreuve A  Epreuve B\n",
       "Observation                      \n",
       "1                    3          8\n",
       "2                    4          9\n",
       "3                    6         10\n",
       "4                    7         13\n",
       "5                    9         15"
      ]
     },
     "execution_count": 77,
     "metadata": {},
     "output_type": "execute_result"
    }
   ],
   "source": [
    "df = pd.read_csv('TD2-exo2.csv', index_col= [0])\n",
    "df.head()"
   ]
  },
  {
   "cell_type": "code",
   "execution_count": 78,
   "metadata": {},
   "outputs": [
    {
     "name": "stdout",
     "output_type": "stream",
     "text": [
      "             Epreuve A  Epreuve B\n",
      "Observation                      \n",
      "1                    3          8\n",
      "2                    4          9\n",
      "3                    6         10\n",
      "4                    7         13\n",
      "5                    9         15\n",
      "6                   10         14\n",
      "7                    9         13\n",
      "8                   11         16\n",
      "9                   12         13\n",
      "10                  13         19\n",
      "11                  15          6\n",
      "12                   4         19\n"
     ]
    }
   ],
   "source": [
    "num_data = df.select_dtypes(include=['int64', 'float64'])\n",
    "print(num_data)\n"
   ]
  },
  {
   "cell_type": "code",
   "execution_count": 79,
   "metadata": {},
   "outputs": [
    {
     "name": "stdout",
     "output_type": "stream",
     "text": [
      "              resultat_test\n",
      "person_coeff       0.101305\n",
      "p_value            0.754075\n"
     ]
    }
   ],
   "source": [
    "print(pd.DataFrame(pearsonr(df['Epreuve A'], df['Epreuve B']), index = ['person_coeff','p_value'], columns= ['resultat_test']))"
   ]
  },
  {
   "cell_type": "code",
   "execution_count": 80,
   "metadata": {},
   "outputs": [],
   "source": [
    "slope, intercept, r_value, p_value, std_err = linregress(df['Epreuve A'], df['Epreuve B'])\n",
    "\n",
    "def Prediction (X):\n",
    "    return slope * X + intercept"
   ]
  },
  {
   "cell_type": "code",
   "execution_count": 81,
   "metadata": {},
   "outputs": [
    {
     "data": {
      "text/plain": [
       "Text(0, 0.5, 'Epreuve B')"
      ]
     },
     "execution_count": 81,
     "metadata": {},
     "output_type": "execute_result"
    },
    {
     "data": {
      "image/png": "[encoded data removed]",
      "text/plain": [
       "<Figure size 640x480 with 1 Axes>"
      ]
     },
     "metadata": {},
     "output_type": "display_data"
    }
   ],
   "source": [
    "plt.scatter(df['Epreuve A'], df['Epreuve B'], color=\"blue\", label=\"Données réelles\")\n",
    "plt.title(\"Relation entre Epreuve A et Epreuve B\")\n",
    "plt.xlabel(\"Epreuve A\")\n",
    "plt.ylabel(\"Epreuve B\")"
   ]
  },
  {
   "cell_type": "code",
   "execution_count": 82,
   "metadata": {},
   "outputs": [
    {
     "data": {
      "text/html": [
       "<div>\n",
       "<style scoped>\n",
       "    .dataframe tbody tr th:only-of-type {\n",
       "        vertical-align: middle;\n",
       "    }\n",
       "\n",
       "    .dataframe tbody tr th {\n",
       "        vertical-align: top;\n",
       "    }\n",
       "\n",
       "    .dataframe thead th {\n",
       "        text-align: right;\n",
       "    }\n",
       "</style>\n",
       "<table border=\"1\" class=\"dataframe\">\n",
       "  <thead>\n",
       "    <tr style=\"text-align: right;\">\n",
       "      <th></th>\n",
       "      <th>Epreuve A</th>\n",
       "      <th>Epreuve B</th>\n",
       "    </tr>\n",
       "  </thead>\n",
       "  <tbody>\n",
       "    <tr>\n",
       "      <th>count</th>\n",
       "      <td>12.000000</td>\n",
       "      <td>12.000000</td>\n",
       "    </tr>\n",
       "    <tr>\n",
       "      <th>mean</th>\n",
       "      <td>8.583333</td>\n",
       "      <td>12.916667</td>\n",
       "    </tr>\n",
       "    <tr>\n",
       "      <th>std</th>\n",
       "      <td>3.848455</td>\n",
       "      <td>4.100074</td>\n",
       "    </tr>\n",
       "    <tr>\n",
       "      <th>min</th>\n",
       "      <td>3.000000</td>\n",
       "      <td>6.000000</td>\n",
       "    </tr>\n",
       "    <tr>\n",
       "      <th>25%</th>\n",
       "      <td>5.500000</td>\n",
       "      <td>9.750000</td>\n",
       "    </tr>\n",
       "    <tr>\n",
       "      <th>50%</th>\n",
       "      <td>9.000000</td>\n",
       "      <td>13.000000</td>\n",
       "    </tr>\n",
       "    <tr>\n",
       "      <th>75%</th>\n",
       "      <td>11.250000</td>\n",
       "      <td>15.250000</td>\n",
       "    </tr>\n",
       "    <tr>\n",
       "      <th>max</th>\n",
       "      <td>15.000000</td>\n",
       "      <td>19.000000</td>\n",
       "    </tr>\n",
       "  </tbody>\n",
       "</table>\n",
       "</div>"
      ],
      "text/plain": [
       "       Epreuve A  Epreuve B\n",
       "count  12.000000  12.000000\n",
       "mean    8.583333  12.916667\n",
       "std     3.848455   4.100074\n",
       "min     3.000000   6.000000\n",
       "25%     5.500000   9.750000\n",
       "50%     9.000000  13.000000\n",
       "75%    11.250000  15.250000\n",
       "max    15.000000  19.000000"
      ]
     },
     "execution_count": 82,
     "metadata": {},
     "output_type": "execute_result"
    }
   ],
   "source": [
    "num_data.describe()"
   ]
  },
  {
   "cell_type": "markdown",
   "metadata": {},
   "source": [
    "c/ Existe-il une dépendance entre ces 2 variables? En prenant risque α égale 1%"
   ]
  },
  {
   "cell_type": "code",
   "execution_count": 83,
   "metadata": {},
   "outputs": [
    {
     "name": "stdout",
     "output_type": "stream",
     "text": [
      "Coefficient de corrélation: 0.10130489326551938\n",
      "Valeur p: 0.7540750178173952\n",
      "Il n'existe pas de dépendance significative entre les épreuves A et B.\n"
     ]
    }
   ],
   "source": [
    "corr, p_value = pearsonr(df['Epreuve A'], df['Epreuve B'])\n",
    "print(f\"Coefficient de corrélation: {corr}\")\n",
    "print(f\"Valeur p: {p_value}\")\n",
    "\n",
    "alpha = 0.01\n",
    "if p_value < alpha:\n",
    "    print(\"Il existe une dépendance significative entre les épreuves A et B.\")\n",
    "else:\n",
    "    print(\"Il n'existe pas de dépendance significative entre les épreuves A et B.\")\n"
   ]
  },
  {
   "cell_type": "markdown",
   "metadata": {},
   "source": [
    "d/ Analyser vos résultats et tirer une conclusion\n",
    "On peut analyser que le coefficient de corrélation entre les deux variables est de 0.0101, et le p_value est de 0.75 qui est plus grand que 1%. Ainsi donc les deux variables sont indépendantes"
   ]
  },
  {
   "cell_type": "markdown",
   "metadata": {},
   "source": [
    "e/ Tracer la droite de régression sur le même graphique que le nuage des points. Interprétez."
   ]
  },
  {
   "cell_type": "code",
   "execution_count": 84,
   "metadata": {},
   "outputs": [
    {
     "name": "stdout",
     "output_type": "stream",
     "text": [
      "equation de la droite de régression linéaire :  0.10792838874680302 * X +  11.990281329923274\n"
     ]
    }
   ],
   "source": [
    "fitline = Prediction(df['Epreuve A'])\n",
    "print(\"equation de la droite de régression linéaire : \",slope, \"* X + \", intercept)"
   ]
  },
  {
   "cell_type": "code",
   "execution_count": 85,
   "metadata": {},
   "outputs": [
    {
     "data": {
      "text/plain": [
       "Text(0, 0.5, 'Epreuve B')"
      ]
     },
     "execution_count": 85,
     "metadata": {},
     "output_type": "execute_result"
    },
    {
     "data": {
      "image/png": "[encoded data removed]",
      "text/plain": [
       "<Figure size 640x480 with 1 Axes>"
      ]
     },
     "metadata": {},
     "output_type": "display_data"
    }
   ],
   "source": [
    "plt.scatter(df['Epreuve A'], df['Epreuve B'], color=\"blue\", label=\"Données réelles\")\n",
    "plt.plot(df['Epreuve A'], fitline, color=\"red\", label=\"Modèle de régression\")\n",
    "plt.title(\"Relation entre Epreuve A et Epreuve B\")\n",
    "plt.xlabel(\"Epreuve A\")\n",
    "plt.ylabel(\"Epreuve B\")"
   ]
  },
  {
   "cell_type": "markdown",
   "metadata": {},
   "source": [
    "Nous pouvons interprêter que la droite ne suis pas exactement l'alignement des points à cause des deux derniers stagiaires."
   ]
  },
  {
   "cell_type": "markdown",
   "metadata": {},
   "source": [
    "### Partie B"
   ]
  },
  {
   "cell_type": "markdown",
   "metadata": {},
   "source": [
    "supprimer les deux derniers stagiaires"
   ]
  },
  {
   "cell_type": "code",
   "execution_count": 106,
   "metadata": {},
   "outputs": [
    {
     "name": "stdout",
     "output_type": "stream",
     "text": [
      "             Epreuve A  Epreuve B     Prédit     Écart\n",
      "Observation                                           \n",
      "10                  13         19  13.393350  5.606650\n",
      "1                    3          8  12.314066  4.314066\n",
      "2                    4          9  12.421995  3.421995\n",
      "8                   11         16  13.177494  2.822506\n",
      "3                    6         10  12.637852  2.637852\n",
      "5                    9         15  12.961637  2.038363\n",
      "6                   10         14  13.069565  0.930435\n",
      "9                   12         13  13.285422  0.285422\n",
      "4                    7         13  12.745780  0.254220\n",
      "7                    9         13  12.961637  0.038363\n"
     ]
    }
   ],
   "source": [
    "df = pd.read_csv('TD2-exo2.csv', index_col= [0])\n",
    "df.head()\n",
    "slope, intercept, r_value, p_value, std_err = linregress(df['Epreuve A'], df['Epreuve B'])\n",
    "\n",
    "def Prediction (X):\n",
    "    return slope * X + intercept\n",
    "fitline = Prediction(df['Epreuve A'])\n",
    "df['Prédit'] = fitline\n",
    "df['Écart'] = abs(df['Epreuve B'] - df['Prédit'])\n",
    "df = df.sort_values(by='Écart', ascending=False)\n",
    "df = df.iloc[2:]\n",
    "print(df)\n"
   ]
  },
  {
   "cell_type": "code",
   "execution_count": 109,
   "metadata": {},
   "outputs": [
    {
     "name": "stdout",
     "output_type": "stream",
     "text": [
      "equation de la droite de régression linéaire :  0.8964143426294822 * X +  5.470119521912349\n"
     ]
    }
   ],
   "source": [
    "slope, intercept, r_value, p_value, std_err = linregress(df['Epreuve A'], df['Epreuve B'])\n",
    "\n",
    "def Prediction (X):\n",
    "    return slope * X + intercept\n",
    "fitline = Prediction(df['Epreuve A'])\n",
    "print(\"equation de la droite de régression linéaire : \",slope, \"* X + \", intercept)"
   ]
  },
  {
   "cell_type": "code",
   "execution_count": 110,
   "metadata": {},
   "outputs": [
    {
     "data": {
      "text/plain": [
       "Text(0, 0.5, 'Epreuve B')"
      ]
     },
     "execution_count": 110,
     "metadata": {},
     "output_type": "execute_result"
    },
    {
     "data": {
      "image/png": "[encoded data removed]",
      "text/plain": [
       "<Figure size 640x480 with 1 Axes>"
      ]
     },
     "metadata": {},
     "output_type": "display_data"
    }
   ],
   "source": [
    "plt.scatter(df['Epreuve A'], df['Epreuve B'], color=\"blue\", label=\"Données réelles\")\n",
    "plt.plot(df['Epreuve A'], fitline, color=\"red\", label=\"Modèle de régression\")\n",
    "plt.title(\"Relation entre Epreuve A et Epreuve B\")\n",
    "plt.xlabel(\"Epreuve A\")\n",
    "plt.ylabel(\"Epreuve B\")"
   ]
  }
 ],
 "metadata": {
  "kernelspec": {
   "display_name": "base",
   "language": "python",
   "name": "python3"
  },
  "language_info": {
   "codemirror_mode": {
    "name": "ipython",
    "version": 3
   },
   "file_extension": ".py",
   "mimetype": "text/x-python",
   "name": "python",
   "nbconvert_exporter": "python",
   "pygments_lexer": "ipython3",
   "version": "3.12.7"
  }
 },
 "nbformat": 4,
 "nbformat_minor": 2
}
